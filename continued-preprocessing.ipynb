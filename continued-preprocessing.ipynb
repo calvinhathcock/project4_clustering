{
 "cells": [
  {
   "cell_type": "markdown",
   "id": "6894a17c-bea2-4f07-b9d2-470421e09b20",
   "metadata": {
    "tags": []
   },
   "source": [
    "### Project 4: Continued \n",
    "In the previous notebook, I did all the processing I could within the memory limitations of my laptop. I exported the cleaned CSV and starting with a clean kernel to One Hot encode the data so that the customers are the index and each column is a movie. I will also explore PCA. "
   ]
  },
  {
   "cell_type": "code",
   "execution_count": 1,
   "id": "8dd8f1af-d19a-497f-a664-c6b60ca9d5f6",
   "metadata": {},
   "outputs": [],
   "source": [
    "import pandas as pd\n",
    "import numpy as np\n",
    "import matplotlib.pyplot as plt\n",
    "import seaborn as sns"
   ]
  },
  {
   "cell_type": "code",
   "execution_count": 2,
   "id": "04aa787a-15f2-4bb1-9a0e-7f4d0cf8b1d4",
   "metadata": {},
   "outputs": [],
   "source": [
    "#read the previously cleaned csv\n",
    "df = pd.read_csv('combined_data_cleaned.csv')\n",
    "df = df.astype('uint32')"
   ]
  },
  {
   "cell_type": "markdown",
   "id": "f872f67a-2d12-43a1-967b-160702caf4e0",
   "metadata": {},
   "source": [
    "### Continuing to Reduce Data Size \n",
    "Need to reduce size of data still. In the previous notebook, somewhat methodical methods of compression were implemented. The data was reduced a considerable amount. But it is still too large for some of the operations I want to complete. At this point we'll randomly drop customers and movies using the function below."
   ]
  },
  {
   "cell_type": "code",
   "execution_count": 3,
   "id": "f278d1f7-c925-4fa6-8723-b88ad9a02730",
   "metadata": {},
   "outputs": [],
   "source": [
    "import typing as T\n",
    "import random as rand\n",
    "\n",
    "#Drop random indices from given list\n",
    "def drop_random(values: list, length: int, proportion: float):\n",
    "    '''\n",
    "    Parameters\n",
    "        values: \"list like\" - Array of original values before randomly dropped\n",
    "        length: int - length of the values array\n",
    "        proportion: float - proportion of values to KEEP ex. .8 keep 80% of the data\n",
    "    '''\n",
    "    num_to_drop = length -  int(length*proportion)\n",
    "    to_drop = np.empty(num_to_drop, dtype=int)\n",
    "    \n",
    "    for i in range(0,num_to_drop):\n",
    "        while True:\n",
    "            n = rand.randrange(length)\n",
    "            if n not in to_drop[:]:\n",
    "                to_drop[i] = n\n",
    "                break\n",
    "\n",
    "    return np.delete(values, to_drop, axis=None)"
   ]
  },
  {
   "cell_type": "code",
   "execution_count": 4,
   "id": "f3234b64-a7ad-45ad-a71b-33e93d85d7ea",
   "metadata": {},
   "outputs": [],
   "source": [
    "#get customer and movie unqique values\n",
    "customers = df.Cust_Id.value_counts().index\n",
    "movies = df.Movie_Id.value_counts().index\n",
    "\n",
    "# get random customers and movies to drop\n",
    "customers_to_drop = drop_random(customers, len(customers), .1)\n",
    "movies_to_drop = drop_random(movies, len(movies), .3)\n",
    "\n",
    "#drop the random customers and movies\n",
    "df_trimmed = df[df['Cust_Id'].isin(customers_to_drop)]\n",
    "df_trimmed = df_trimmed[df_trimmed['Movie_Id'].isin(movies_to_drop)]\n",
    "del df"
   ]
  },
  {
   "cell_type": "code",
   "execution_count": 5,
   "id": "db250203-0e81-42ef-9ad6-db4c32286bcb",
   "metadata": {},
   "outputs": [
    {
     "name": "stdout",
     "output_type": "stream",
     "text": [
      "Customer count before drop:\t 291590\n",
      "Movie count before drop:\t 16031\n",
      "Customer count after drop:\t 29159\n",
      "Movie count after drop:\t\t 4789\n"
     ]
    }
   ],
   "source": [
    "print(\"Customer count before drop:\\t\", len(customers))\n",
    "print(\"Movie count before drop:\\t\", len(movies))\n",
    "print(\"Customer count after drop:\\t\", len(df_trimmed.Cust_Id.value_counts().index))\n",
    "print(\"Movie count after drop:\\t\\t\", len(df_trimmed.Movie_Id.value_counts().index))"
   ]
  },
  {
   "cell_type": "code",
   "execution_count": 6,
   "id": "bbc74479-fe1a-4f18-b037-b8de9ff500e4",
   "metadata": {},
   "outputs": [
    {
     "name": "stdout",
     "output_type": "stream",
     "text": [
      "<class 'pandas.core.frame.DataFrame'>\n",
      "Int64Index: 1065779 entries, 1575 to 35021621\n",
      "Columns: 3 entries, Cust_Id to Movie_Id\n",
      "dtypes: uint32(3)\n",
      "memory usage: 20.3 MB\n"
     ]
    }
   ],
   "source": [
    "df_trimmed.info(verbose=False, memory_usage=\"deep\")"
   ]
  },
  {
   "cell_type": "code",
   "execution_count": 7,
   "id": "88db89ff-055a-4e20-b556-20641d2a50f1",
   "metadata": {},
   "outputs": [],
   "source": [
    "#rearrange data frame so that customers and rows and movies are columns\n",
    "df_pivot = df_trimmed.pivot_table(index = 'Cust_Id', columns = 'Movie_Id', values = 'Rating')\n",
    "del df_trimmed"
   ]
  },
  {
   "cell_type": "code",
   "execution_count": 8,
   "id": "8d5f2b4b-7b21-4456-aa8c-ebcca73ace7a",
   "metadata": {},
   "outputs": [
    {
     "data": {
      "text/plain": [
       "(29159, 4789)"
      ]
     },
     "execution_count": 8,
     "metadata": {},
     "output_type": "execute_result"
    }
   ],
   "source": [
    "df_pivot.shape"
   ]
  },
  {
   "cell_type": "code",
   "execution_count": 9,
   "id": "73a659aa-74e3-4527-9670-87ee6988b8d7",
   "metadata": {},
   "outputs": [],
   "source": [
    "#export reformatted data \n",
    "df_pivot.to_csv('data_pivot.csv')"
   ]
  }
 ],
 "metadata": {
  "kernelspec": {
   "display_name": "Python 3 (ipykernel)",
   "language": "python",
   "name": "python3"
  },
  "language_info": {
   "codemirror_mode": {
    "name": "ipython",
    "version": 3
   },
   "file_extension": ".py",
   "mimetype": "text/x-python",
   "name": "python",
   "nbconvert_exporter": "python",
   "pygments_lexer": "ipython3",
   "version": "3.9.5"
  }
 },
 "nbformat": 4,
 "nbformat_minor": 5
}
