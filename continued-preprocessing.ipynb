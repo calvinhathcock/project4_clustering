{
 "cells": [
  {
   "cell_type": "markdown",
   "id": "6894a17c-bea2-4f07-b9d2-470421e09b20",
   "metadata": {},
   "source": [
    "### Project 4: Continued \n",
    "In the previous notebook, I did all the processing I could within the memory limitations of my laptop, for this next segment I am going to One Hot encode the data so that the customers are the index and each column is a movie. I will also explore PCA. Due to memory limitations, I will try lazy loading via the Dask library."
   ]
  },
  {
   "cell_type": "code",
   "execution_count": 1,
   "id": "8d26e292-9738-4e6f-8f01-cbaf482a99c6",
   "metadata": {},
   "outputs": [],
   "source": [
    "import pandas as pd\n",
    "import numpy as np\n",
    "import matplotlib.pyplot as plt\n",
    "import seaborn as sns"
   ]
  },
  {
   "cell_type": "code",
   "execution_count": 2,
   "id": "012ca349-c749-4513-b10e-62551aa175be",
   "metadata": {},
   "outputs": [],
   "source": [
    "#import dask\n",
    "import dask.dataframe as dd"
   ]
  },
  {
   "cell_type": "code",
   "execution_count": 3,
   "id": "f487a4bc-334a-4f5b-b4a4-9abc54261d19",
   "metadata": {},
   "outputs": [],
   "source": [
    "#read the previously cleaned csv\n",
    "df = dd.read_csv('combined_data_cleaned.csv')"
   ]
  },
  {
   "cell_type": "code",
   "execution_count": 4,
   "id": "3259e5c5-f500-4a29-9c5e-e5dca82768f4",
   "metadata": {},
   "outputs": [],
   "source": [
    "df = df.astype('uint32')"
   ]
  },
  {
   "cell_type": "code",
   "execution_count": 6,
   "id": "87ba158b-1b4f-4853-849e-dca51f2dc811",
   "metadata": {},
   "outputs": [
    {
     "name": "stdout",
     "output_type": "stream",
     "text": [
      "CPU times: user 5.47 s, sys: 38.8 ms, total: 5.51 s\n",
      "Wall time: 5.51 s\n"
     ]
    }
   ],
   "source": [
    "#encode data \n",
    "df = df.categorize('Movie_Id')\n",
    "%time df_p = df.pivot_table(index='Cust_Id', columns='Movie_Id', values='Rating')"
   ]
  },
  {
   "cell_type": "code",
   "execution_count": 10,
   "id": "3a72f806-4add-4fa3-b9cf-3dcd3ce7f09f",
   "metadata": {},
   "outputs": [
    {
     "data": {
      "text/plain": [
       "(Delayed('int-ca16c810-65cc-4378-bff1-6316dd22563d'), 16031)"
      ]
     },
     "execution_count": 10,
     "metadata": {},
     "output_type": "execute_result"
    }
   ],
   "source": [
    "df_p.shape"
   ]
  }
 ],
 "metadata": {
  "kernelspec": {
   "display_name": "Python 3 (ipykernel)",
   "language": "python",
   "name": "python3"
  },
  "language_info": {
   "codemirror_mode": {
    "name": "ipython",
    "version": 3
   },
   "file_extension": ".py",
   "mimetype": "text/x-python",
   "name": "python",
   "nbconvert_exporter": "python",
   "pygments_lexer": "ipython3",
   "version": "3.9.5"
  }
 },
 "nbformat": 4,
 "nbformat_minor": 5
}
