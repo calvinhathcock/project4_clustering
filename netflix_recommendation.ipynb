{
 "cells": [
  {
   "cell_type": "markdown",
   "id": "aba2d2d1-4d28-4074-882f-cbe81db2e4f6",
   "metadata": {},
   "source": [
    "# Project 4: Clustering"
   ]
  },
  {
   "cell_type": "markdown",
   "id": "f5ad49c6-632f-4e8b-9187-e1187d9ab856",
   "metadata": {},
   "source": [
    "Data set: Netflix Prize - https://www.kaggle.com/netflix-inc/netflix-prize-data?select=combined_data_4.txt\n",
    "\n",
    "Contains information about users and the ratings that they gave to certain films. Separated in multiple csvs"
   ]
  },
  {
   "cell_type": "code",
   "execution_count": 1,
   "id": "d31f27ad",
   "metadata": {},
   "outputs": [],
   "source": [
    "import pandas as pd\n",
    "import numpy as np\n",
    "import matplotlib.pyplot as plt\n",
    "import seaborn as sns"
   ]
  },
  {
   "cell_type": "markdown",
   "id": "aecfda74-8a5b-40b2-aaf1-5b16606951f6",
   "metadata": {},
   "source": [
    "Starting with just a subset of the entire data just to get code up and running"
   ]
  },
  {
   "cell_type": "code",
   "execution_count": 2,
   "id": "fe1d745b",
   "metadata": {},
   "outputs": [],
   "source": [
    "ratings = pd.read_csv('netflix/combined_data_all.txt', header = None, names = ['Cust_Id', 'Rating'], usecols = [0,1])"
   ]
  },
  {
   "cell_type": "markdown",
   "id": "f8761eeb",
   "metadata": {},
   "source": [
    "Note: the format of the ratings file is grouped by movie id. Each row with a movie ID will have a null rating following it. There are 17770 movie's provided so that should be the number of nulls."
   ]
  },
  {
   "cell_type": "markdown",
   "id": "5e92539c-1b00-40f4-a20c-b6009d230c99",
   "metadata": {},
   "source": [
    "### Initial data inspection"
   ]
  },
  {
   "cell_type": "code",
   "execution_count": 3,
   "id": "2f4c0e3a",
   "metadata": {},
   "outputs": [
    {
     "data": {
      "text/plain": [
       "17770"
      ]
     },
     "execution_count": 3,
     "metadata": {},
     "output_type": "execute_result"
    }
   ],
   "source": [
    "''' From README:\n",
    "The file \"training_set.tar\" is a tar of a directory containing 17770 files, one\n",
    "per movie.  The first line of each file contains the movie id followed by a\n",
    "colon.  Each subsequent line in the file corresponds to a rating from a customer\n",
    "and its date in the following format:\n",
    "'''\n",
    "'''\n",
    "note this \"training_set.tar\" was renamed to combined_data in a .txt format. The null rows indicate \n",
    "the movie ID column. These movie ID's will need to be converted to a column so that it will match\n",
    "a DataFrame format. \n",
    "'''\n",
    "ratings['Rating'].isna().sum()"
   ]
  },
  {
   "cell_type": "code",
   "execution_count": 4,
   "id": "9bfd5ff0",
   "metadata": {},
   "outputs": [
    {
     "data": {
      "text/plain": [
       "(100498277, 2)"
      ]
     },
     "execution_count": 4,
     "metadata": {},
     "output_type": "execute_result"
    }
   ],
   "source": [
    "ratings.shape"
   ]
  },
  {
   "cell_type": "markdown",
   "id": "fd4427af",
   "metadata": {},
   "source": [
    "100 millions rows :O "
   ]
  },
  {
   "cell_type": "code",
   "execution_count": 5,
   "id": "c138bce4",
   "metadata": {},
   "outputs": [
    {
     "data": {
      "text/plain": [
       "Cust_Id     object\n",
       "Rating     float64\n",
       "dtype: object"
      ]
     },
     "execution_count": 5,
     "metadata": {},
     "output_type": "execute_result"
    }
   ],
   "source": [
    "ratings.dtypes"
   ]
  },
  {
   "cell_type": "code",
   "execution_count": 6,
   "id": "eb04fce8",
   "metadata": {},
   "outputs": [
    {
     "data": {
      "text/html": [
       "<div>\n",
       "<style scoped>\n",
       "    .dataframe tbody tr th:only-of-type {\n",
       "        vertical-align: middle;\n",
       "    }\n",
       "\n",
       "    .dataframe tbody tr th {\n",
       "        vertical-align: top;\n",
       "    }\n",
       "\n",
       "    .dataframe thead th {\n",
       "        text-align: right;\n",
       "    }\n",
       "</style>\n",
       "<table border=\"1\" class=\"dataframe\">\n",
       "  <thead>\n",
       "    <tr style=\"text-align: right;\">\n",
       "      <th></th>\n",
       "      <th>Cust_Id</th>\n",
       "      <th>Rating</th>\n",
       "    </tr>\n",
       "  </thead>\n",
       "  <tbody>\n",
       "    <tr>\n",
       "      <th>0</th>\n",
       "      <td>1:</td>\n",
       "      <td>NaN</td>\n",
       "    </tr>\n",
       "    <tr>\n",
       "      <th>1</th>\n",
       "      <td>1488844</td>\n",
       "      <td>3.0</td>\n",
       "    </tr>\n",
       "    <tr>\n",
       "      <th>2</th>\n",
       "      <td>822109</td>\n",
       "      <td>5.0</td>\n",
       "    </tr>\n",
       "    <tr>\n",
       "      <th>3</th>\n",
       "      <td>885013</td>\n",
       "      <td>4.0</td>\n",
       "    </tr>\n",
       "    <tr>\n",
       "      <th>4</th>\n",
       "      <td>30878</td>\n",
       "      <td>4.0</td>\n",
       "    </tr>\n",
       "  </tbody>\n",
       "</table>\n",
       "</div>"
      ],
      "text/plain": [
       "   Cust_Id  Rating\n",
       "0       1:     NaN\n",
       "1  1488844     3.0\n",
       "2   822109     5.0\n",
       "3   885013     4.0\n",
       "4    30878     4.0"
      ]
     },
     "execution_count": 6,
     "metadata": {},
     "output_type": "execute_result"
    }
   ],
   "source": [
    "ratings.head()"
   ]
  },
  {
   "cell_type": "markdown",
   "id": "4935ddc6-0b6d-4b3c-aeec-70489e829d7c",
   "metadata": {},
   "source": [
    "Visualizing rating distribution"
   ]
  },
  {
   "cell_type": "code",
   "execution_count": 7,
   "id": "8a8c66c9",
   "metadata": {},
   "outputs": [],
   "source": [
    "movie_count = ratings['Rating'].isnull().sum()\n",
    "cust_count = ratings['Cust_Id'].nunique() - movie_count\n",
    "ratings_count = ratings['Cust_Id'].count() - movie_count"
   ]
  },
  {
   "cell_type": "code",
   "execution_count": 8,
   "id": "cfb83cd8-01ff-41c9-b51d-ace628aa2626",
   "metadata": {},
   "outputs": [
    {
     "name": "stdout",
     "output_type": "stream",
     "text": [
      "Number of movies:\t\t 17770\n",
      "Number of unique customers:\t 480189\n",
      "Total number of ratings:\t 100480507\n"
     ]
    }
   ],
   "source": [
    "print(\"Number of movies:\\t\\t\", movie_count)\n",
    "print(\"Number of unique customers:\\t\", cust_count)\n",
    "print(\"Total number of ratings:\\t\", ratings_count)"
   ]
  },
  {
   "cell_type": "code",
   "execution_count": 9,
   "id": "525d669e-8a7a-4df5-8298-0783bb49d1f5",
   "metadata": {},
   "outputs": [],
   "source": [
    "ratings_grouped = ratings.groupby('Rating')['Rating'].agg(['count'])"
   ]
  },
  {
   "cell_type": "code",
   "execution_count": 10,
   "id": "66308daa-2746-4872-98b1-a2feaa92270e",
   "metadata": {},
   "outputs": [
    {
     "data": {
      "text/plain": [
       "[Text(0.5, 1.0, 'Distribution of Ratings')]"
      ]
     },
     "execution_count": 10,
     "metadata": {},
     "output_type": "execute_result"
    },
    {
     "data": {
      "image/png": "[encoded data removed]",
      "text/plain": [
       "<Figure size 432x288 with 1 Axes>"
      ]
     },
     "metadata": {
      "needs_background": "light"
     },
     "output_type": "display_data"
    }
   ],
   "source": [
    "sns.barplot(data = ratings_grouped, y = 'count', x = ratings_grouped.index, palette = 'pastel').set(title = 'Distribution of Ratings')"
   ]
  },
  {
   "cell_type": "markdown",
   "id": "5e265c8e-9791-446d-ba9a-c98c74487197",
   "metadata": {},
   "source": [
    "### Data Processing"
   ]
  },
  {
   "cell_type": "code",
   "execution_count": 11,
   "id": "28f53aa9-3830-46b3-a819-0bdbf9a8d0d1",
   "metadata": {},
   "outputs": [
    {
     "data": {
      "text/plain": [
       "\"\\nThere is a separate CSV that contains the corresponding movie title\\nfor each movie ID. This may be useful for visualizations or other\\ntypes of analysis but in our case I don't think it will be needed.\\nThe numeric value of ID is all we need for model training.\\n\""
      ]
     },
     "execution_count": 11,
     "metadata": {},
     "output_type": "execute_result"
    }
   ],
   "source": [
    "'''\n",
    "There is a separate CSV that contains the corresponding movie title\n",
    "for each movie ID. This may be useful for visualizations or other\n",
    "types of analysis but in our case I don't think it will be needed.\n",
    "The numeric value of ID is all we need for model training.\n",
    "'''\n",
    "\n",
    "#import movie titles csv\n",
    "#encoding: ISO-8859-15\n",
    "\n",
    "#movies = pd.read_csv('netflix/movie_titles.csv', encoding = 'iso8859_15', header=None )"
   ]
  },
  {
   "cell_type": "code",
   "execution_count": 12,
   "id": "57ddc90d-b143-42f6-9c54-9dd93014acb2",
   "metadata": {},
   "outputs": [],
   "source": [
    "#get indices of Movie ID rows\n",
    "movies = pd.DataFrame(pd.isnull(ratings.Rating))\n",
    "movies = movies[movies['Rating'] == True]\n",
    "movies = movies.reset_index()\n",
    "movie_rows = np.array(movies['index'], dtype = np.int64)"
   ]
  },
  {
   "cell_type": "code",
   "execution_count": 13,
   "id": "137d1ce6-1832-4f44-9be0-0ae55cae08b7",
   "metadata": {},
   "outputs": [
    {
     "data": {
      "text/html": [
       "<div>\n",
       "<style scoped>\n",
       "    .dataframe tbody tr th:only-of-type {\n",
       "        vertical-align: middle;\n",
       "    }\n",
       "\n",
       "    .dataframe tbody tr th {\n",
       "        vertical-align: top;\n",
       "    }\n",
       "\n",
       "    .dataframe thead th {\n",
       "        text-align: right;\n",
       "    }\n",
       "</style>\n",
       "<table border=\"1\" class=\"dataframe\">\n",
       "  <thead>\n",
       "    <tr style=\"text-align: right;\">\n",
       "      <th></th>\n",
       "      <th>0</th>\n",
       "    </tr>\n",
       "  </thead>\n",
       "  <tbody>\n",
       "    <tr>\n",
       "      <th>0</th>\n",
       "      <td>0</td>\n",
       "    </tr>\n",
       "    <tr>\n",
       "      <th>1</th>\n",
       "      <td>548</td>\n",
       "    </tr>\n",
       "    <tr>\n",
       "      <th>2</th>\n",
       "      <td>694</td>\n",
       "    </tr>\n",
       "    <tr>\n",
       "      <th>3</th>\n",
       "      <td>2707</td>\n",
       "    </tr>\n",
       "    <tr>\n",
       "      <th>4</th>\n",
       "      <td>2850</td>\n",
       "    </tr>\n",
       "    <tr>\n",
       "      <th>...</th>\n",
       "      <td>...</td>\n",
       "    </tr>\n",
       "    <tr>\n",
       "      <th>17765</th>\n",
       "      <td>100488431</td>\n",
       "    </tr>\n",
       "    <tr>\n",
       "      <th>17766</th>\n",
       "      <td>100489037</td>\n",
       "    </tr>\n",
       "    <tr>\n",
       "      <th>17767</th>\n",
       "      <td>100489242</td>\n",
       "    </tr>\n",
       "    <tr>\n",
       "      <th>17768</th>\n",
       "      <td>100490605</td>\n",
       "    </tr>\n",
       "    <tr>\n",
       "      <th>17769</th>\n",
       "      <td>100497355</td>\n",
       "    </tr>\n",
       "  </tbody>\n",
       "</table>\n",
       "<p>17770 rows × 1 columns</p>\n",
       "</div>"
      ],
      "text/plain": [
       "               0\n",
       "0              0\n",
       "1            548\n",
       "2            694\n",
       "3           2707\n",
       "4           2850\n",
       "...          ...\n",
       "17765  100488431\n",
       "17766  100489037\n",
       "17767  100489242\n",
       "17768  100490605\n",
       "17769  100497355\n",
       "\n",
       "[17770 rows x 1 columns]"
      ]
     },
     "execution_count": 13,
     "metadata": {},
     "output_type": "execute_result"
    }
   ],
   "source": [
    "pd.DataFrame(movie_rows)"
   ]
  },
  {
   "cell_type": "code",
   "execution_count": 14,
   "id": "b29b1844-3350-4ea4-bdbd-331c3121d5c6",
   "metadata": {},
   "outputs": [
    {
     "data": {
      "text/plain": [
       "17770"
      ]
     },
     "execution_count": 14,
     "metadata": {},
     "output_type": "execute_result"
    }
   ],
   "source": [
    "len(movie_rows)"
   ]
  },
  {
   "cell_type": "code",
   "execution_count": 15,
   "id": "bca2f291-1dd3-4827-808c-6d7eb22000db",
   "metadata": {
    "tags": []
   },
   "outputs": [],
   "source": [
    "#fast way to generate movie id column\n",
    "new_rows = np.empty(len(ratings), dtype='int64')\n",
    "temp = 0\n",
    "for i, j in enumerate(movie_rows):\n",
    "    if (i+1) == len(movie_rows):\n",
    "        new_rows[j:len(ratings)] = (i+1)\n",
    "    new_rows[temp:j] = i\n",
    "    temp = j"
   ]
  },
  {
   "cell_type": "code",
   "execution_count": 16,
   "id": "b486f778-9963-46d1-a8a6-2e87ee8299ca",
   "metadata": {},
   "outputs": [
    {
     "name": "stdout",
     "output_type": "stream",
     "text": [
      "100498277\n",
      "100498277\n"
     ]
    }
   ],
   "source": [
    "#verify columns is correct length\n",
    "print(len(ratings))\n",
    "print(len(new_rows))"
   ]
  },
  {
   "cell_type": "code",
   "execution_count": 17,
   "id": "ccfe5a9c-2650-4a25-baf1-af2106494100",
   "metadata": {},
   "outputs": [
    {
     "data": {
      "text/plain": [
       "17770"
      ]
     },
     "execution_count": 17,
     "metadata": {},
     "output_type": "execute_result"
    }
   ],
   "source": [
    "len(movie_rows)"
   ]
  },
  {
   "cell_type": "code",
   "execution_count": 18,
   "id": "81d0cf35-0ca3-4ea7-a818-c573409c6057",
   "metadata": {},
   "outputs": [
    {
     "name": "stdout",
     "output_type": "stream",
     "text": [
      "17770\n"
     ]
    }
   ],
   "source": [
    "print(new_rows[len(ratings)-1])"
   ]
  },
  {
   "cell_type": "code",
   "execution_count": 19,
   "id": "d3c3def0-762c-442d-b129-603824b04690",
   "metadata": {},
   "outputs": [
    {
     "data": {
      "text/html": [
       "<div>\n",
       "<style scoped>\n",
       "    .dataframe tbody tr th:only-of-type {\n",
       "        vertical-align: middle;\n",
       "    }\n",
       "\n",
       "    .dataframe tbody tr th {\n",
       "        vertical-align: top;\n",
       "    }\n",
       "\n",
       "    .dataframe thead th {\n",
       "        text-align: right;\n",
       "    }\n",
       "</style>\n",
       "<table border=\"1\" class=\"dataframe\">\n",
       "  <thead>\n",
       "    <tr style=\"text-align: right;\">\n",
       "      <th></th>\n",
       "      <th>0</th>\n",
       "    </tr>\n",
       "  </thead>\n",
       "  <tbody>\n",
       "    <tr>\n",
       "      <th>0</th>\n",
       "      <td>1</td>\n",
       "    </tr>\n",
       "    <tr>\n",
       "      <th>1</th>\n",
       "      <td>1</td>\n",
       "    </tr>\n",
       "    <tr>\n",
       "      <th>2</th>\n",
       "      <td>1</td>\n",
       "    </tr>\n",
       "    <tr>\n",
       "      <th>3</th>\n",
       "      <td>1</td>\n",
       "    </tr>\n",
       "    <tr>\n",
       "      <th>4</th>\n",
       "      <td>1</td>\n",
       "    </tr>\n",
       "    <tr>\n",
       "      <th>...</th>\n",
       "      <td>...</td>\n",
       "    </tr>\n",
       "    <tr>\n",
       "      <th>100498272</th>\n",
       "      <td>17770</td>\n",
       "    </tr>\n",
       "    <tr>\n",
       "      <th>100498273</th>\n",
       "      <td>17770</td>\n",
       "    </tr>\n",
       "    <tr>\n",
       "      <th>100498274</th>\n",
       "      <td>17770</td>\n",
       "    </tr>\n",
       "    <tr>\n",
       "      <th>100498275</th>\n",
       "      <td>17770</td>\n",
       "    </tr>\n",
       "    <tr>\n",
       "      <th>100498276</th>\n",
       "      <td>17770</td>\n",
       "    </tr>\n",
       "  </tbody>\n",
       "</table>\n",
       "<p>100498277 rows × 1 columns</p>\n",
       "</div>"
      ],
      "text/plain": [
       "               0\n",
       "0              1\n",
       "1              1\n",
       "2              1\n",
       "3              1\n",
       "4              1\n",
       "...          ...\n",
       "100498272  17770\n",
       "100498273  17770\n",
       "100498274  17770\n",
       "100498275  17770\n",
       "100498276  17770\n",
       "\n",
       "[100498277 rows x 1 columns]"
      ]
     },
     "execution_count": 19,
     "metadata": {},
     "output_type": "execute_result"
    }
   ],
   "source": [
    "pd.DataFrame(new_rows)"
   ]
  },
  {
   "cell_type": "code",
   "execution_count": 20,
   "id": "bf188eb2-a422-4442-a7e2-e9b2f2658b40",
   "metadata": {},
   "outputs": [],
   "source": [
    "#merge Movie ID columns with original DF\n",
    "full_data = ratings\n",
    "full_data['Movie_Id'] = new_rows\n",
    "full_data.drop(index=movie_rows, inplace = True)"
   ]
  },
  {
   "cell_type": "code",
   "execution_count": 25,
   "id": "620a7c8d-e968-4a90-99ff-9681ddcb4970",
   "metadata": {},
   "outputs": [
    {
     "data": {
      "text/plain": [
       "Cust_Id     False\n",
       "Rating      False\n",
       "Movie_Id    False\n",
       "dtype: bool"
      ]
     },
     "execution_count": 25,
     "metadata": {},
     "output_type": "execute_result"
    }
   ],
   "source": [
    "full_data.isna().any()"
   ]
  },
  {
   "cell_type": "code",
   "execution_count": null,
   "id": "e7f87a91-3905-4bc0-bebc-e90a7a839402",
   "metadata": {},
   "outputs": [],
   "source": []
  }
 ],
 "metadata": {
  "kernelspec": {
   "display_name": "Python 3 (ipykernel)",
   "language": "python",
   "name": "python3"
  },
  "language_info": {
   "codemirror_mode": {
    "name": "ipython",
    "version": 3
   },
   "file_extension": ".py",
   "mimetype": "text/x-python",
   "name": "python",
   "nbconvert_exporter": "python",
   "pygments_lexer": "ipython3",
   "version": "3.9.5"
  }
 },
 "nbformat": 4,
 "nbformat_minor": 5
}
