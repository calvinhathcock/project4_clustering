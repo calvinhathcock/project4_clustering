{
 "cells": [
  {
   "cell_type": "markdown",
   "id": "aba2d2d1-4d28-4074-882f-cbe81db2e4f6",
   "metadata": {},
   "source": [
    "# Project 4: Clustering"
   ]
  },
  {
   "cell_type": "markdown",
   "id": "f5ad49c6-632f-4e8b-9187-e1187d9ab856",
   "metadata": {},
   "source": [
    "Data set: Netflix Prize - https://www.kaggle.com/netflix-inc/netflix-prize-data?select=combined_data_4.txt\n",
    "\n",
    "Contains information about users and the ratings that they gave to certain films. Separated in multiple csvs"
   ]
  },
  {
   "cell_type": "code",
   "execution_count": 2,
   "id": "d31f27ad",
   "metadata": {},
   "outputs": [],
   "source": [
    "import pandas as pd\n",
    "import numpy as np\n",
    "import matplotlib.pyplot as plt\n",
    "import seaborn as sns"
   ]
  },
  {
   "cell_type": "code",
   "execution_count": 3,
   "id": "fe1d745b",
   "metadata": {},
   "outputs": [],
   "source": [
    "ratings = pd.read_csv('netflix/combined_data_all.txt', header = None, names = ['Cust_Id', 'Rating'], usecols = [0,1])"
   ]
  },
  {
   "cell_type": "markdown",
   "id": "f8761eeb",
   "metadata": {},
   "source": [
    "Note: the format of the ratings file is grouped by movie id. Each row with a movie ID will have a null rating following it. There are 17770 movie's provided so that should be the number of nulls."
   ]
  },
  {
   "cell_type": "code",
   "execution_count": 4,
   "id": "2f4c0e3a",
   "metadata": {},
   "outputs": [
    {
     "data": {
      "text/plain": [
       "17770"
      ]
     },
     "execution_count": 4,
     "metadata": {},
     "output_type": "execute_result"
    }
   ],
   "source": [
    "ratings['Rating'].isna().sum()"
   ]
  },
  {
   "cell_type": "code",
   "execution_count": 5,
   "id": "9bfd5ff0",
   "metadata": {},
   "outputs": [
    {
     "data": {
      "text/plain": [
       "(100498277, 2)"
      ]
     },
     "execution_count": 5,
     "metadata": {},
     "output_type": "execute_result"
    }
   ],
   "source": [
    "ratings.shape"
   ]
  },
  {
   "cell_type": "markdown",
   "id": "fd4427af",
   "metadata": {},
   "source": [
    "100 millions rows :O "
   ]
  },
  {
   "cell_type": "code",
   "execution_count": 6,
   "id": "c138bce4",
   "metadata": {},
   "outputs": [
    {
     "data": {
      "text/plain": [
       "Cust_Id     object\n",
       "Rating     float64\n",
       "dtype: object"
      ]
     },
     "execution_count": 6,
     "metadata": {},
     "output_type": "execute_result"
    }
   ],
   "source": [
    "ratings.dtypes"
   ]
  },
  {
   "cell_type": "code",
   "execution_count": 7,
   "id": "eb04fce8",
   "metadata": {},
   "outputs": [
    {
     "data": {
      "text/html": [
       "<div>\n",
       "<style scoped>\n",
       "    .dataframe tbody tr th:only-of-type {\n",
       "        vertical-align: middle;\n",
       "    }\n",
       "\n",
       "    .dataframe tbody tr th {\n",
       "        vertical-align: top;\n",
       "    }\n",
       "\n",
       "    .dataframe thead th {\n",
       "        text-align: right;\n",
       "    }\n",
       "</style>\n",
       "<table border=\"1\" class=\"dataframe\">\n",
       "  <thead>\n",
       "    <tr style=\"text-align: right;\">\n",
       "      <th></th>\n",
       "      <th>Cust_Id</th>\n",
       "      <th>Rating</th>\n",
       "    </tr>\n",
       "  </thead>\n",
       "  <tbody>\n",
       "    <tr>\n",
       "      <th>0</th>\n",
       "      <td>1:</td>\n",
       "      <td>NaN</td>\n",
       "    </tr>\n",
       "    <tr>\n",
       "      <th>1</th>\n",
       "      <td>1488844</td>\n",
       "      <td>3.0</td>\n",
       "    </tr>\n",
       "    <tr>\n",
       "      <th>2</th>\n",
       "      <td>822109</td>\n",
       "      <td>5.0</td>\n",
       "    </tr>\n",
       "    <tr>\n",
       "      <th>3</th>\n",
       "      <td>885013</td>\n",
       "      <td>4.0</td>\n",
       "    </tr>\n",
       "    <tr>\n",
       "      <th>4</th>\n",
       "      <td>30878</td>\n",
       "      <td>4.0</td>\n",
       "    </tr>\n",
       "  </tbody>\n",
       "</table>\n",
       "</div>"
      ],
      "text/plain": [
       "   Cust_Id  Rating\n",
       "0       1:     NaN\n",
       "1  1488844     3.0\n",
       "2   822109     5.0\n",
       "3   885013     4.0\n",
       "4    30878     4.0"
      ]
     },
     "execution_count": 7,
     "metadata": {},
     "output_type": "execute_result"
    }
   ],
   "source": [
    "ratings.head()"
   ]
  },
  {
   "cell_type": "code",
   "execution_count": 8,
   "id": "8a8c66c9",
   "metadata": {},
   "outputs": [],
   "source": [
    "movie_count = ratings['Rating'].isnull().sum()\n",
    "cust_count = ratings['Cust_Id'].nunique() - movie_count\n",
    "ratings_count = ratings['Cust_Id'].count() - movie_count"
   ]
  },
  {
   "cell_type": "code",
   "execution_count": 9,
   "id": "cfb83cd8-01ff-41c9-b51d-ace628aa2626",
   "metadata": {},
   "outputs": [
    {
     "name": "stdout",
     "output_type": "stream",
     "text": [
      "Number of movies:\t\t 17770\n",
      "Number of unique customers:\t 480189\n",
      "Total number of ratings:\t 100480507\n"
     ]
    }
   ],
   "source": [
    "print(\"Number of movies:\\t\\t\", movie_count)\n",
    "print(\"Number of unique customers:\\t\", cust_count)\n",
    "print(\"Total number of ratings:\\t\", ratings_count)"
   ]
  },
  {
   "cell_type": "code",
   "execution_count": 10,
   "id": "525d669e-8a7a-4df5-8298-0783bb49d1f5",
   "metadata": {},
   "outputs": [],
   "source": [
    "ratings_grouped = ratings.groupby('Rating')['Rating'].agg(['count'])"
   ]
  },
  {
   "cell_type": "code",
   "execution_count": 11,
   "id": "510f492a-187f-4bd2-b32e-e7b26ecbfbe1",
   "metadata": {},
   "outputs": [
    {
     "data": {
      "text/html": [
       "<div>\n",
       "<style scoped>\n",
       "    .dataframe tbody tr th:only-of-type {\n",
       "        vertical-align: middle;\n",
       "    }\n",
       "\n",
       "    .dataframe tbody tr th {\n",
       "        vertical-align: top;\n",
       "    }\n",
       "\n",
       "    .dataframe thead th {\n",
       "        text-align: right;\n",
       "    }\n",
       "</style>\n",
       "<table border=\"1\" class=\"dataframe\">\n",
       "  <thead>\n",
       "    <tr style=\"text-align: right;\">\n",
       "      <th></th>\n",
       "      <th>count</th>\n",
       "    </tr>\n",
       "    <tr>\n",
       "      <th>Rating</th>\n",
       "      <th></th>\n",
       "    </tr>\n",
       "  </thead>\n",
       "  <tbody>\n",
       "    <tr>\n",
       "      <th>1.0</th>\n",
       "      <td>4617990</td>\n",
       "    </tr>\n",
       "    <tr>\n",
       "      <th>2.0</th>\n",
       "      <td>10132080</td>\n",
       "    </tr>\n",
       "    <tr>\n",
       "      <th>3.0</th>\n",
       "      <td>28811247</td>\n",
       "    </tr>\n",
       "    <tr>\n",
       "      <th>4.0</th>\n",
       "      <td>33750958</td>\n",
       "    </tr>\n",
       "    <tr>\n",
       "      <th>5.0</th>\n",
       "      <td>23168232</td>\n",
       "    </tr>\n",
       "  </tbody>\n",
       "</table>\n",
       "</div>"
      ],
      "text/plain": [
       "           count\n",
       "Rating          \n",
       "1.0      4617990\n",
       "2.0     10132080\n",
       "3.0     28811247\n",
       "4.0     33750958\n",
       "5.0     23168232"
      ]
     },
     "execution_count": 11,
     "metadata": {},
     "output_type": "execute_result"
    }
   ],
   "source": [
    "ratings_grouped"
   ]
  },
  {
   "cell_type": "code",
   "execution_count": 12,
   "id": "66308daa-2746-4872-98b1-a2feaa92270e",
   "metadata": {},
   "outputs": [
    {
     "data": {
      "text/plain": [
       "[Text(0.5, 1.0, 'Distribution of Ratings')]"
      ]
     },
     "execution_count": 12,
     "metadata": {},
     "output_type": "execute_result"
    },
    {
     "data": {
      "image/png": "[encoded data removed]",
      "text/plain": [
       "<Figure size 432x288 with 1 Axes>"
      ]
     },
     "metadata": {
      "needs_background": "light"
     },
     "output_type": "display_data"
    }
   ],
   "source": [
    "sns.barplot(data = ratings_grouped, y = 'count', x = ratings_grouped.index, palette = 'pastel').set(title = 'Distribution of Ratings')"
   ]
  },
  {
   "cell_type": "code",
   "execution_count": 13,
   "id": "28f53aa9-3830-46b3-a819-0bdbf9a8d0d1",
   "metadata": {},
   "outputs": [],
   "source": [
    "#import movie titles csv\n",
    "#encoding: ISO-8859-15\n",
    "#movies = pd.read_csv('netflix/movie_titles.csv', encoding = 'iso8859_15', header=None )"
   ]
  },
  {
   "cell_type": "code",
   "execution_count": 13,
   "id": "57ddc90d-b143-42f6-9c54-9dd93014acb2",
   "metadata": {},
   "outputs": [],
   "source": [
    "movies = pd.DataFrame(pd.isnull(ratings.Rating))\n",
    "movies = movies[movies['Rating'] == True]\n",
    "movies = movies.reset_index()\n",
    "movies = movies.drop(columns='Rating')"
   ]
  },
  {
   "cell_type": "code",
   "execution_count": 15,
   "id": "126b3b18-6eaf-45ae-9f69-3e1cfc0e2219",
   "metadata": {
    "collapsed": true,
    "jupyter": {
     "outputs_hidden": true
    },
    "tags": []
   },
   "outputs": [
    {
     "data": {
      "text/html": [
       "<div>\n",
       "<style scoped>\n",
       "    .dataframe tbody tr th:only-of-type {\n",
       "        vertical-align: middle;\n",
       "    }\n",
       "\n",
       "    .dataframe tbody tr th {\n",
       "        vertical-align: top;\n",
       "    }\n",
       "\n",
       "    .dataframe thead th {\n",
       "        text-align: right;\n",
       "    }\n",
       "</style>\n",
       "<table border=\"1\" class=\"dataframe\">\n",
       "  <thead>\n",
       "    <tr style=\"text-align: right;\">\n",
       "      <th></th>\n",
       "      <th>index</th>\n",
       "    </tr>\n",
       "  </thead>\n",
       "  <tbody>\n",
       "    <tr>\n",
       "      <th>0</th>\n",
       "      <td>0</td>\n",
       "    </tr>\n",
       "    <tr>\n",
       "      <th>1</th>\n",
       "      <td>548</td>\n",
       "    </tr>\n",
       "    <tr>\n",
       "      <th>2</th>\n",
       "      <td>694</td>\n",
       "    </tr>\n",
       "    <tr>\n",
       "      <th>3</th>\n",
       "      <td>2707</td>\n",
       "    </tr>\n",
       "    <tr>\n",
       "      <th>4</th>\n",
       "      <td>2850</td>\n",
       "    </tr>\n",
       "    <tr>\n",
       "      <th>...</th>\n",
       "      <td>...</td>\n",
       "    </tr>\n",
       "    <tr>\n",
       "      <th>17765</th>\n",
       "      <td>100488431</td>\n",
       "    </tr>\n",
       "    <tr>\n",
       "      <th>17766</th>\n",
       "      <td>100489037</td>\n",
       "    </tr>\n",
       "    <tr>\n",
       "      <th>17767</th>\n",
       "      <td>100489242</td>\n",
       "    </tr>\n",
       "    <tr>\n",
       "      <th>17768</th>\n",
       "      <td>100490605</td>\n",
       "    </tr>\n",
       "    <tr>\n",
       "      <th>17769</th>\n",
       "      <td>100497355</td>\n",
       "    </tr>\n",
       "  </tbody>\n",
       "</table>\n",
       "<p>17770 rows × 1 columns</p>\n",
       "</div>"
      ],
      "text/plain": [
       "           index\n",
       "0              0\n",
       "1            548\n",
       "2            694\n",
       "3           2707\n",
       "4           2850\n",
       "...          ...\n",
       "17765  100488431\n",
       "17766  100489037\n",
       "17767  100489242\n",
       "17768  100490605\n",
       "17769  100497355\n",
       "\n",
       "[17770 rows x 1 columns]"
      ]
     },
     "execution_count": 15,
     "metadata": {},
     "output_type": "execute_result"
    }
   ],
   "source": [
    "movies"
   ]
  },
  {
   "cell_type": "code",
   "execution_count": 14,
   "id": "cfc9456b-df39-48bb-bb67-4e2b1c005333",
   "metadata": {},
   "outputs": [],
   "source": [
    "movie_rows = movies['index']\n",
    "movie_rows = np.array(movie_rows, dtype = np.int64)"
   ]
  },
  {
   "cell_type": "code",
   "execution_count": 18,
   "id": "b29b1844-3350-4ea4-bdbd-331c3121d5c6",
   "metadata": {},
   "outputs": [
    {
     "data": {
      "text/plain": [
       "array([        0,       548,       694, ..., 100489242, 100490605,\n",
       "       100497355])"
      ]
     },
     "execution_count": 18,
     "metadata": {},
     "output_type": "execute_result"
    }
   ],
   "source": [
    "movie_rows"
   ]
  },
  {
   "cell_type": "code",
   "execution_count": 15,
   "id": "0ad6c526-d27b-4b17-87cf-3200bb299849",
   "metadata": {},
   "outputs": [],
   "source": [
    "ratings.drop(index=movie_rows, axis=0, inplace=True)"
   ]
  },
  {
   "cell_type": "code",
   "execution_count": 17,
   "id": "ed03a29d-589d-46dc-9362-366582b56263",
   "metadata": {},
   "outputs": [
    {
     "data": {
      "text/html": [
       "<div>\n",
       "<style scoped>\n",
       "    .dataframe tbody tr th:only-of-type {\n",
       "        vertical-align: middle;\n",
       "    }\n",
       "\n",
       "    .dataframe tbody tr th {\n",
       "        vertical-align: top;\n",
       "    }\n",
       "\n",
       "    .dataframe thead th {\n",
       "        text-align: right;\n",
       "    }\n",
       "</style>\n",
       "<table border=\"1\" class=\"dataframe\">\n",
       "  <thead>\n",
       "    <tr style=\"text-align: right;\">\n",
       "      <th></th>\n",
       "      <th>Cust_Id</th>\n",
       "      <th>Rating</th>\n",
       "    </tr>\n",
       "  </thead>\n",
       "  <tbody>\n",
       "    <tr>\n",
       "      <th>1</th>\n",
       "      <td>1488844</td>\n",
       "      <td>3.0</td>\n",
       "    </tr>\n",
       "    <tr>\n",
       "      <th>2</th>\n",
       "      <td>822109</td>\n",
       "      <td>5.0</td>\n",
       "    </tr>\n",
       "    <tr>\n",
       "      <th>3</th>\n",
       "      <td>885013</td>\n",
       "      <td>4.0</td>\n",
       "    </tr>\n",
       "    <tr>\n",
       "      <th>4</th>\n",
       "      <td>30878</td>\n",
       "      <td>4.0</td>\n",
       "    </tr>\n",
       "    <tr>\n",
       "      <th>5</th>\n",
       "      <td>823519</td>\n",
       "      <td>3.0</td>\n",
       "    </tr>\n",
       "  </tbody>\n",
       "</table>\n",
       "</div>"
      ],
      "text/plain": [
       "   Cust_Id  Rating\n",
       "1  1488844     3.0\n",
       "2   822109     5.0\n",
       "3   885013     4.0\n",
       "4    30878     4.0\n",
       "5   823519     3.0"
      ]
     },
     "execution_count": 17,
     "metadata": {},
     "output_type": "execute_result"
    }
   ],
   "source": [
    "ratings.head()"
   ]
  },
  {
   "cell_type": "code",
   "execution_count": 27,
   "id": "c181020f-6d96-4fda-bafc-21f6528c1e6d",
   "metadata": {},
   "outputs": [],
   "source": [
    "ratings = ratings.astype('uint32')"
   ]
  },
  {
   "cell_type": "code",
   "execution_count": 28,
   "id": "9e3558d6-d970-4eed-85dd-90419dce1dc8",
   "metadata": {},
   "outputs": [
    {
     "data": {
      "text/plain": [
       "Cust_Id    uint32\n",
       "Rating     uint32\n",
       "dtype: object"
      ]
     },
     "execution_count": 28,
     "metadata": {},
     "output_type": "execute_result"
    }
   ],
   "source": [
    "ratings.dtypes"
   ]
  },
  {
   "cell_type": "code",
   "execution_count": 29,
   "id": "137d1ce6-1832-4f44-9be0-0ae55cae08b7",
   "metadata": {},
   "outputs": [
    {
     "data": {
      "text/html": [
       "<div>\n",
       "<style scoped>\n",
       "    .dataframe tbody tr th:only-of-type {\n",
       "        vertical-align: middle;\n",
       "    }\n",
       "\n",
       "    .dataframe tbody tr th {\n",
       "        vertical-align: top;\n",
       "    }\n",
       "\n",
       "    .dataframe thead th {\n",
       "        text-align: right;\n",
       "    }\n",
       "</style>\n",
       "<table border=\"1\" class=\"dataframe\">\n",
       "  <thead>\n",
       "    <tr style=\"text-align: right;\">\n",
       "      <th></th>\n",
       "      <th>0</th>\n",
       "    </tr>\n",
       "  </thead>\n",
       "  <tbody>\n",
       "    <tr>\n",
       "      <th>0</th>\n",
       "      <td>0</td>\n",
       "    </tr>\n",
       "    <tr>\n",
       "      <th>1</th>\n",
       "      <td>548</td>\n",
       "    </tr>\n",
       "    <tr>\n",
       "      <th>2</th>\n",
       "      <td>694</td>\n",
       "    </tr>\n",
       "    <tr>\n",
       "      <th>3</th>\n",
       "      <td>2707</td>\n",
       "    </tr>\n",
       "    <tr>\n",
       "      <th>4</th>\n",
       "      <td>2850</td>\n",
       "    </tr>\n",
       "  </tbody>\n",
       "</table>\n",
       "</div>"
      ],
      "text/plain": [
       "      0\n",
       "0     0\n",
       "1   548\n",
       "2   694\n",
       "3  2707\n",
       "4  2850"
      ]
     },
     "execution_count": 29,
     "metadata": {},
     "output_type": "execute_result"
    }
   ],
   "source": [
    "pd.DataFrame(movie_rows).head()"
   ]
  },
  {
   "cell_type": "code",
   "execution_count": 30,
   "id": "bca2f291-1dd3-4827-808c-6d7eb22000db",
   "metadata": {},
   "outputs": [],
   "source": [
    "#fast way to get movie id for each row\n",
    "'''\n",
    "FIX SIZE OF NEW_ROWS ARRAY\n",
    "'''\n",
    "new_rows = np.empty(ratings_count, dtype='int64')\n",
    "count = 0\n",
    "temp = 0\n",
    "for i in movie_rows:\n",
    "    new_rows[temp:i] = count \n",
    "    temp = i\n",
    "    count = count + 1"
   ]
  },
  {
   "cell_type": "code",
   "execution_count": 19,
   "id": "81d0cf35-0ca3-4ea7-a818-c573409c6057",
   "metadata": {},
   "outputs": [
    {
     "name": "stdout",
     "output_type": "stream",
     "text": [
      "17764\n"
     ]
    }
   ],
   "source": [
    "print(new_rows[100480506])"
   ]
  },
  {
   "cell_type": "code",
   "execution_count": 24,
   "id": "7d78757c-dfd0-407c-bb23-b3a87d0d4057",
   "metadata": {},
   "outputs": [
    {
     "data": {
      "text/html": [
       "<div>\n",
       "<style scoped>\n",
       "    .dataframe tbody tr th:only-of-type {\n",
       "        vertical-align: middle;\n",
       "    }\n",
       "\n",
       "    .dataframe tbody tr th {\n",
       "        vertical-align: top;\n",
       "    }\n",
       "\n",
       "    .dataframe thead th {\n",
       "        text-align: right;\n",
       "    }\n",
       "</style>\n",
       "<table border=\"1\" class=\"dataframe\">\n",
       "  <thead>\n",
       "    <tr style=\"text-align: right;\">\n",
       "      <th></th>\n",
       "      <th>0</th>\n",
       "    </tr>\n",
       "  </thead>\n",
       "  <tbody>\n",
       "    <tr>\n",
       "      <th>690</th>\n",
       "      <td>2</td>\n",
       "    </tr>\n",
       "    <tr>\n",
       "      <th>691</th>\n",
       "      <td>2</td>\n",
       "    </tr>\n",
       "    <tr>\n",
       "      <th>692</th>\n",
       "      <td>2</td>\n",
       "    </tr>\n",
       "    <tr>\n",
       "      <th>693</th>\n",
       "      <td>2</td>\n",
       "    </tr>\n",
       "    <tr>\n",
       "      <th>694</th>\n",
       "      <td>3</td>\n",
       "    </tr>\n",
       "    <tr>\n",
       "      <th>695</th>\n",
       "      <td>3</td>\n",
       "    </tr>\n",
       "    <tr>\n",
       "      <th>696</th>\n",
       "      <td>3</td>\n",
       "    </tr>\n",
       "    <tr>\n",
       "      <th>697</th>\n",
       "      <td>3</td>\n",
       "    </tr>\n",
       "    <tr>\n",
       "      <th>698</th>\n",
       "      <td>3</td>\n",
       "    </tr>\n",
       "    <tr>\n",
       "      <th>699</th>\n",
       "      <td>3</td>\n",
       "    </tr>\n",
       "  </tbody>\n",
       "</table>\n",
       "</div>"
      ],
      "text/plain": [
       "     0\n",
       "690  2\n",
       "691  2\n",
       "692  2\n",
       "693  2\n",
       "694  3\n",
       "695  3\n",
       "696  3\n",
       "697  3\n",
       "698  3\n",
       "699  3"
      ]
     },
     "execution_count": 24,
     "metadata": {},
     "output_type": "execute_result"
    }
   ],
   "source": [
    "pd.DataFrame(new_rows).iloc[690:700]"
   ]
  },
  {
   "cell_type": "code",
   "execution_count": 20,
   "id": "489c29bc-d871-4c79-87ad-48f32f293514",
   "metadata": {},
   "outputs": [
    {
     "data": {
      "text/plain": [
       "100480507"
      ]
     },
     "execution_count": 20,
     "metadata": {},
     "output_type": "execute_result"
    }
   ],
   "source": [
    "len(new_rows)"
   ]
  },
  {
   "cell_type": "code",
   "execution_count": 61,
   "id": "b223f639-6447-41bc-8f07-dc68cf5f81e2",
   "metadata": {},
   "outputs": [
    {
     "data": {
      "text/plain": [
       "100480507"
      ]
     },
     "execution_count": 61,
     "metadata": {},
     "output_type": "execute_result"
    }
   ],
   "source": [
    "ratings_count"
   ]
  },
  {
   "cell_type": "code",
   "execution_count": 97,
   "id": "51fadf42-853f-42fc-8538-60a8b1065853",
   "metadata": {},
   "outputs": [
    {
     "data": {
      "text/plain": [
       "17770"
      ]
     },
     "execution_count": 97,
     "metadata": {},
     "output_type": "execute_result"
    }
   ],
   "source": [
    "movie_count"
   ]
  },
  {
   "cell_type": "code",
   "execution_count": 101,
   "id": "fb2b1fad-b076-4c90-937e-3301bc95d166",
   "metadata": {},
   "outputs": [
    {
     "data": {
      "text/html": [
       "<div>\n",
       "<style scoped>\n",
       "    .dataframe tbody tr th:only-of-type {\n",
       "        vertical-align: middle;\n",
       "    }\n",
       "\n",
       "    .dataframe tbody tr th {\n",
       "        vertical-align: top;\n",
       "    }\n",
       "\n",
       "    .dataframe thead th {\n",
       "        text-align: right;\n",
       "    }\n",
       "</style>\n",
       "<table border=\"1\" class=\"dataframe\">\n",
       "  <thead>\n",
       "    <tr style=\"text-align: right;\">\n",
       "      <th></th>\n",
       "      <th>0</th>\n",
       "    </tr>\n",
       "  </thead>\n",
       "  <tbody>\n",
       "    <tr>\n",
       "      <th>17765</th>\n",
       "      <td>100488431</td>\n",
       "    </tr>\n",
       "    <tr>\n",
       "      <th>17766</th>\n",
       "      <td>100489037</td>\n",
       "    </tr>\n",
       "    <tr>\n",
       "      <th>17767</th>\n",
       "      <td>100489242</td>\n",
       "    </tr>\n",
       "    <tr>\n",
       "      <th>17768</th>\n",
       "      <td>100490605</td>\n",
       "    </tr>\n",
       "    <tr>\n",
       "      <th>17769</th>\n",
       "      <td>100497355</td>\n",
       "    </tr>\n",
       "  </tbody>\n",
       "</table>\n",
       "</div>"
      ],
      "text/plain": [
       "               0\n",
       "17765  100488431\n",
       "17766  100489037\n",
       "17767  100489242\n",
       "17768  100490605\n",
       "17769  100497355"
      ]
     },
     "execution_count": 101,
     "metadata": {},
     "output_type": "execute_result"
    }
   ],
   "source": [
    "pd.DataFrame(movie_rows).tail()"
   ]
  }
 ],
 "metadata": {
  "kernelspec": {
   "display_name": "Python 3 (ipykernel)",
   "language": "python",
   "name": "python3"
  },
  "language_info": {
   "codemirror_mode": {
    "name": "ipython",
    "version": 3
   },
   "file_extension": ".py",
   "mimetype": "text/x-python",
   "name": "python",
   "nbconvert_exporter": "python",
   "pygments_lexer": "ipython3",
   "version": "3.9.5"
  }
 },
 "nbformat": 4,
 "nbformat_minor": 5
}
